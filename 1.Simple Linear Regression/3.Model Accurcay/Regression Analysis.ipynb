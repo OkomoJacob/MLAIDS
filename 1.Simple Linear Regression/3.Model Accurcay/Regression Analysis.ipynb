{
 "cells": [
  {
   "cell_type": "code",
   "execution_count": 74,
   "source": [
    "# We are following 13 steps as below: \n",
    "# 1. import pd, 2.import the dataset, 3. view the dataset, 4. import the plotting libs (seaborn and matplt)\n",
    "# 5. Do a pairplot of the dataset 6. extract the features into X 7. Examine X  \n",
    "# 8.Extract the output variable into y 9.Examine y 10.import the library for splitting \n",
    "# 11.split the data into 2[train and test dataset] 12.Perform LinReg 13.View the reg CoEfficient"
   ],
   "outputs": [],
   "metadata": {}
  },
  {
   "cell_type": "code",
   "execution_count": 75,
   "source": [
    "from matplotlib import pyplot as plt\n",
    "import seaborn as sns\n",
    "#@Telling the matplotlib to plot a line within this notebook\n",
    "%matplotlib inline \n",
    "import pandas as pd\n",
    "from pandas import*"
   ],
   "outputs": [],
   "metadata": {}
  },
  {
   "cell_type": "code",
   "execution_count": 76,
   "source": [
    "data = pd.read_csv('Correlation2010.csv', index_col = 0) #To removee the unnamed part"
   ],
   "outputs": [],
   "metadata": {}
  },
  {
   "cell_type": "code",
   "execution_count": 81,
   "source": [
    "data.head(5)"
   ],
   "outputs": [
    {
     "output_type": "execute_result",
     "data": {
      "text/html": [
       "<div>\n",
       "<style scoped>\n",
       "    .dataframe tbody tr th:only-of-type {\n",
       "        vertical-align: middle;\n",
       "    }\n",
       "\n",
       "    .dataframe tbody tr th {\n",
       "        vertical-align: top;\n",
       "    }\n",
       "\n",
       "    .dataframe thead th {\n",
       "        text-align: right;\n",
       "    }\n",
       "</style>\n",
       "<table border=\"1\" class=\"dataframe\">\n",
       "  <thead>\n",
       "    <tr style=\"text-align: right;\">\n",
       "      <th></th>\n",
       "      <th>X</th>\n",
       "      <th>Y</th>\n",
       "      <th>Chl-a Reference</th>\n",
       "      <th>Ch-a Estimates</th>\n",
       "      <th>LSAT Reference</th>\n",
       "      <th>LSAT Estimates</th>\n",
       "    </tr>\n",
       "    <tr>\n",
       "      <th>Date</th>\n",
       "      <th></th>\n",
       "      <th></th>\n",
       "      <th></th>\n",
       "      <th></th>\n",
       "      <th></th>\n",
       "      <th></th>\n",
       "    </tr>\n",
       "  </thead>\n",
       "  <tbody>\n",
       "    <tr>\n",
       "      <th>7/1/2015</th>\n",
       "      <td>34.6883</td>\n",
       "      <td>-0.13600</td>\n",
       "      <td>55.826229</td>\n",
       "      <td>50.672397</td>\n",
       "      <td>55.826229</td>\n",
       "      <td>50.672397</td>\n",
       "    </tr>\n",
       "    <tr>\n",
       "      <th>NaN</th>\n",
       "      <td>34.8431</td>\n",
       "      <td>-0.28705</td>\n",
       "      <td>32.192482</td>\n",
       "      <td>37.782982</td>\n",
       "      <td>32.192482</td>\n",
       "      <td>37.782982</td>\n",
       "    </tr>\n",
       "    <tr>\n",
       "      <th>NaN</th>\n",
       "      <td>34.6330</td>\n",
       "      <td>-0.33787</td>\n",
       "      <td>24.771219</td>\n",
       "      <td>24.716781</td>\n",
       "      <td>24.771219</td>\n",
       "      <td>24.716781</td>\n",
       "    </tr>\n",
       "    <tr>\n",
       "      <th>NaN</th>\n",
       "      <td>34.1963</td>\n",
       "      <td>-0.32962</td>\n",
       "      <td>27.068468</td>\n",
       "      <td>22.068468</td>\n",
       "      <td>27.068468</td>\n",
       "      <td>22.068468</td>\n",
       "    </tr>\n",
       "    <tr>\n",
       "      <th>NaN</th>\n",
       "      <td>34.4450</td>\n",
       "      <td>-0.51776</td>\n",
       "      <td>30.188889</td>\n",
       "      <td>24.798715</td>\n",
       "      <td>30.188889</td>\n",
       "      <td>24.798715</td>\n",
       "    </tr>\n",
       "  </tbody>\n",
       "</table>\n",
       "</div>"
      ],
      "text/plain": [
       "                X        Y  Chl-a Reference  Ch-a Estimates  LSAT Reference  \\\n",
       "Date                                                                          \n",
       "7/1/2015  34.6883 -0.13600        55.826229       50.672397       55.826229   \n",
       "NaN       34.8431 -0.28705        32.192482       37.782982       32.192482   \n",
       "NaN       34.6330 -0.33787        24.771219       24.716781       24.771219   \n",
       "NaN       34.1963 -0.32962        27.068468       22.068468       27.068468   \n",
       "NaN       34.4450 -0.51776        30.188889       24.798715       30.188889   \n",
       "\n",
       "          LSAT Estimates  \n",
       "Date                      \n",
       "7/1/2015       50.672397  \n",
       "NaN            37.782982  \n",
       "NaN            24.716781  \n",
       "NaN            22.068468  \n",
       "NaN            24.798715  "
      ]
     },
     "metadata": {},
     "execution_count": 81
    }
   ],
   "metadata": {}
  },
  {
   "cell_type": "code",
   "execution_count": 79,
   "source": [
    "sns.pairplot(data, x_vars = ['Ch-a Estimates'], y_vars= 'Chl-a Reference', height= 4, aspect = 1.0, kind='reg')\n",
    "plt.title(\"Correlation Between Chl-a Observed and Estimates 2010\")"
   ],
   "outputs": [
    {
     "output_type": "execute_result",
     "data": {
      "text/plain": [
       "Text(0.5, 1.0, 'Correlation Between Chl-a Observed and Estimates 2010')"
      ]
     },
     "metadata": {},
     "execution_count": 79
    },
    {
     "output_type": "display_data",
     "data": {
      "image/png": "[encoded data removed]",
      "text/plain": [
       "<Figure size 288x288 with 1 Axes>"
      ]
     },
     "metadata": {
      "needs_background": "light"
     }
    }
   ],
   "metadata": {}
  },
  {
   "cell_type": "markdown",
   "source": [
    "## Measure of R Squared\n",
    "The coefficient of determination, R² is the proportion of the variation in the dependent variable that is predictable from the independent variable"
   ],
   "metadata": {}
  },
  {
   "cell_type": "code",
   "execution_count": 92,
   "source": [
    "refChla = data[\"Chl-a Reference\"]\n",
    "estChla = data[\"Ch-a Estimates\"]\n",
    "\n",
    "refChlaMean = data[\"Chl-a Reference\"].mean()\n",
    "estChlaMean = data[\"Ch-a Estimates\"].mean()"
   ],
   "outputs": [],
   "metadata": {}
  },
  {
   "cell_type": "code",
   "execution_count": 84,
   "source": [],
   "outputs": [],
   "metadata": {}
  },
  {
   "cell_type": "code",
   "execution_count": 91,
   "source": [
    "print(\"Mean of Reference Data: \",refMean)\n",
    "print(\"Mean of Estimated Data: \", estMean)"
   ],
   "outputs": [
    {
     "output_type": "stream",
     "name": "stdout",
     "text": [
      "Mean of Reference Data:  32.130359220833334\n",
      "Mean of Estimated Data:  32.85518279208333\n"
     ]
    }
   ],
   "metadata": {}
  },
  {
   "cell_type": "code",
   "execution_count": null,
   "source": [],
   "outputs": [],
   "metadata": {}
  },
  {
   "cell_type": "code",
   "execution_count": null,
   "source": [
    "()"
   ],
   "outputs": [],
   "metadata": {}
  }
 ],
 "metadata": {
  "kernelspec": {
   "name": "python3",
   "display_name": "Python 3.8.10 64-bit"
  },
  "language_info": {
   "codemirror_mode": {
    "name": "ipython",
    "version": 3
   },
   "file_extension": ".py",
   "mimetype": "text/x-python",
   "name": "python",
   "nbconvert_exporter": "python",
   "pygments_lexer": "ipython3",
   "version": "3.8.10"
  },
  "interpreter": {
   "hash": "916dbcbb3f70747c44a77c7bcd40155683ae19c65e1c03b4aa3499c5328201f1"
  }
 },
 "nbformat": 4,
 "nbformat_minor": 2
}