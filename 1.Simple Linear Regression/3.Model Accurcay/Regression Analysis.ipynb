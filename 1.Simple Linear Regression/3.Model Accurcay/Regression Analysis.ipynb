{
 "cells": [
  {
   "cell_type": "markdown",
   "source": [
    "# Simple steps and procedures followed in the implementation of accuracy assessment\n",
    "* 1. import libraries, \n",
    "* 2. import the dataset, \n",
    "* 3. view the dataset, \n",
    "* 4. Do a pairplot of the dataset  \n",
    "* 5. Extract the output variable into y \n",
    "* 6. Examine y \n",
    "* 7. Import the library for splitting \n",
    "* 8. View the reg Co efficient of correlation"
   ],
   "metadata": {}
  },
  {
   "cell_type": "code",
   "execution_count": 116,
   "source": [
    "from matplotlib import pyplot as plt\n",
    "import seaborn as sns\n",
    "#@Telling the matplotlib to plot a line within this notebook\n",
    "%matplotlib inline \n",
    "import pandas as pd\n",
    "from pandas import*"
   ],
   "outputs": [],
   "metadata": {}
  },
  {
   "cell_type": "code",
   "execution_count": 117,
   "source": [
    "data = pd.read_csv('Correlation2010.csv', index_col = 0) #To removee the unnamed part"
   ],
   "outputs": [],
   "metadata": {}
  },
  {
   "cell_type": "code",
   "execution_count": 118,
   "source": [
    "data.head(5)"
   ],
   "outputs": [
    {
     "output_type": "execute_result",
     "data": {
      "text/html": [
       "<div>\n",
       "<style scoped>\n",
       "    .dataframe tbody tr th:only-of-type {\n",
       "        vertical-align: middle;\n",
       "    }\n",
       "\n",
       "    .dataframe tbody tr th {\n",
       "        vertical-align: top;\n",
       "    }\n",
       "\n",
       "    .dataframe thead th {\n",
       "        text-align: right;\n",
       "    }\n",
       "</style>\n",
       "<table border=\"1\" class=\"dataframe\">\n",
       "  <thead>\n",
       "    <tr style=\"text-align: right;\">\n",
       "      <th></th>\n",
       "      <th>X</th>\n",
       "      <th>Y</th>\n",
       "      <th>Chl-a Reference</th>\n",
       "      <th>Ch-a Estimates</th>\n",
       "    </tr>\n",
       "    <tr>\n",
       "      <th>Date</th>\n",
       "      <th></th>\n",
       "      <th></th>\n",
       "      <th></th>\n",
       "      <th></th>\n",
       "    </tr>\n",
       "  </thead>\n",
       "  <tbody>\n",
       "    <tr>\n",
       "      <th>7/1/2010</th>\n",
       "      <td>34.6883</td>\n",
       "      <td>-0.13600</td>\n",
       "      <td>55.826229</td>\n",
       "      <td>50.672397</td>\n",
       "    </tr>\n",
       "    <tr>\n",
       "      <th>NaN</th>\n",
       "      <td>34.8431</td>\n",
       "      <td>-0.28705</td>\n",
       "      <td>32.192482</td>\n",
       "      <td>37.782982</td>\n",
       "    </tr>\n",
       "    <tr>\n",
       "      <th>NaN</th>\n",
       "      <td>34.6330</td>\n",
       "      <td>-0.33787</td>\n",
       "      <td>24.771219</td>\n",
       "      <td>24.716781</td>\n",
       "    </tr>\n",
       "    <tr>\n",
       "      <th>NaN</th>\n",
       "      <td>34.1963</td>\n",
       "      <td>-0.32962</td>\n",
       "      <td>27.068468</td>\n",
       "      <td>22.068468</td>\n",
       "    </tr>\n",
       "    <tr>\n",
       "      <th>NaN</th>\n",
       "      <td>34.4450</td>\n",
       "      <td>-0.51776</td>\n",
       "      <td>30.188889</td>\n",
       "      <td>24.798715</td>\n",
       "    </tr>\n",
       "  </tbody>\n",
       "</table>\n",
       "</div>"
      ],
      "text/plain": [
       "                X        Y  Chl-a Reference  Ch-a Estimates\n",
       "Date                                                       \n",
       "7/1/2010  34.6883 -0.13600        55.826229       50.672397\n",
       "NaN       34.8431 -0.28705        32.192482       37.782982\n",
       "NaN       34.6330 -0.33787        24.771219       24.716781\n",
       "NaN       34.1963 -0.32962        27.068468       22.068468\n",
       "NaN       34.4450 -0.51776        30.188889       24.798715"
      ]
     },
     "metadata": {},
     "execution_count": 118
    }
   ],
   "metadata": {}
  },
  {
   "cell_type": "code",
   "execution_count": 119,
   "source": [
    "sns.pairplot(data, x_vars = ['Ch-a Estimates'], y_vars= 'Chl-a Reference', height= 4, aspect = 1.0, kind='reg')\n",
    "plt.title(\"Correlation Between Chl-a Observed and Estimates 2010\")"
   ],
   "outputs": [
    {
     "output_type": "execute_result",
     "data": {
      "text/plain": [
       "Text(0.5, 1.0, 'Correlation Between Chl-a Observed and Estimates 2010')"
      ]
     },
     "metadata": {},
     "execution_count": 119
    },
    {
     "output_type": "display_data",
     "data": {
      "image/png": "[encoded data removed]",
      "text/plain": [
       "<Figure size 288x288 with 1 Axes>"
      ]
     },
     "metadata": {
      "needs_background": "light"
     }
    }
   ],
   "metadata": {}
  },
  {
   "cell_type": "markdown",
   "source": [
    "## Pearson Correlation co-efficient (R)"
   ],
   "metadata": {}
  },
  {
   "cell_type": "code",
   "execution_count": 122,
   "source": [
    "corrDf = data[[\"Chl-a Reference\", \"Ch-a Estimates\"]]\n",
    "corrDf.corr()"
   ],
   "outputs": [
    {
     "output_type": "execute_result",
     "data": {
      "text/html": [
       "<div>\n",
       "<style scoped>\n",
       "    .dataframe tbody tr th:only-of-type {\n",
       "        vertical-align: middle;\n",
       "    }\n",
       "\n",
       "    .dataframe tbody tr th {\n",
       "        vertical-align: top;\n",
       "    }\n",
       "\n",
       "    .dataframe thead th {\n",
       "        text-align: right;\n",
       "    }\n",
       "</style>\n",
       "<table border=\"1\" class=\"dataframe\">\n",
       "  <thead>\n",
       "    <tr style=\"text-align: right;\">\n",
       "      <th></th>\n",
       "      <th>Chl-a Reference</th>\n",
       "      <th>Ch-a Estimates</th>\n",
       "    </tr>\n",
       "  </thead>\n",
       "  <tbody>\n",
       "    <tr>\n",
       "      <th>Chl-a Reference</th>\n",
       "      <td>1.000000</td>\n",
       "      <td>0.862872</td>\n",
       "    </tr>\n",
       "    <tr>\n",
       "      <th>Ch-a Estimates</th>\n",
       "      <td>0.862872</td>\n",
       "      <td>1.000000</td>\n",
       "    </tr>\n",
       "  </tbody>\n",
       "</table>\n",
       "</div>"
      ],
      "text/plain": [
       "                 Chl-a Reference  Ch-a Estimates\n",
       "Chl-a Reference         1.000000        0.862872\n",
       "Ch-a Estimates          0.862872        1.000000"
      ]
     },
     "metadata": {},
     "execution_count": 122
    }
   ],
   "metadata": {}
  }
 ],
 "metadata": {
  "kernelspec": {
   "name": "python3",
   "display_name": "Python 3.8.10 64-bit"
  },
  "language_info": {
   "codemirror_mode": {
    "name": "ipython",
    "version": 3
   },
   "file_extension": ".py",
   "mimetype": "text/x-python",
   "name": "python",
   "nbconvert_exporter": "python",
   "pygments_lexer": "ipython3",
   "version": "3.8.10"
  },
  "interpreter": {
   "hash": "916dbcbb3f70747c44a77c7bcd40155683ae19c65e1c03b4aa3499c5328201f1"
  }
 },
 "nbformat": 4,
 "nbformat_minor": 2
}